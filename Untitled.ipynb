{
 "cells": [
  {
   "cell_type": "code",
   "execution_count": 32,
   "id": "8adc22de",
   "metadata": {},
   "outputs": [],
   "source": [
    "import requests"
   ]
  },
  {
   "cell_type": "code",
   "execution_count": 57,
   "id": "7c5f7305",
   "metadata": {},
   "outputs": [],
   "source": [
    "csv_path = \"/Users/selim/Desktop/fleam/fleam-backend/movie-service/src/main/resources/movies/movies.csv\"\n",
    "movie_names = []\n",
    "with open(csv_path, \"r\") as f:\n",
    "    movies = f.readlines()\n",
    "    for i in range(len(movies)):\n",
    "        movies[i] = movies[i].split(\"\\n\")[0]"
   ]
  },
  {
   "cell_type": "code",
   "execution_count": 58,
   "id": "11cd782a",
   "metadata": {},
   "outputs": [],
   "source": [
    "image_url = \"https://image.tmdb.org/t/p/w200/\""
   ]
  },
  {
   "cell_type": "code",
   "execution_count": 59,
   "id": "1873d104",
   "metadata": {},
   "outputs": [],
   "source": [
    "for movie in range(len(movies)):\n",
    "    movie_name = movies[movie].split(\",\")[1].split(\" (\")[0]\n",
    "    param = \"+\".join(movie_name.split(\" \"))\n",
    "    resp = requests.get(\"https://api.themoviedb.org/3/search/movie?api_key=c20a5c88c28ad851c2754cb4969cde95&query=\"+param)\n",
    "    if resp.status_code == 200 and len(resp.json()[\"results\"]) != 0 and resp.json()[\"results\"][0].get(\"poster_path\") is not None:\n",
    "        poster_path = resp.json()[\"results\"][0].get(\"poster_path\")\n",
    "        movies[movie] += \",\"+image_url+poster_path\n",
    "    else:\n",
    "        movies[movie] += \",\""
   ]
  },
  {
   "cell_type": "code",
   "execution_count": null,
   "id": "671bee32",
   "metadata": {},
   "outputs": [],
   "source": [
    "resp.json()"
   ]
  },
  {
   "cell_type": "code",
   "execution_count": 60,
   "id": "7764445c",
   "metadata": {},
   "outputs": [],
   "source": [
    "csv_path2 = \"/Users/selim/Desktop/fleam/fleam-backend/movie-service/src/main/resources/movies/movies_2.csv\"\n",
    "with open(csv_path2, \"w\") as f:\n",
    "    f.write(\"\\n\".join(movies))"
   ]
  },
  {
   "cell_type": "code",
   "execution_count": null,
   "id": "28d83cff",
   "metadata": {},
   "outputs": [],
   "source": [
    "\n"
   ]
  }
 ],
 "metadata": {
  "kernelspec": {
   "display_name": "Python 3 (ipykernel)",
   "language": "python",
   "name": "python3"
  },
  "language_info": {
   "codemirror_mode": {
    "name": "ipython",
    "version": 3
   },
   "file_extension": ".py",
   "mimetype": "text/x-python",
   "name": "python",
   "nbconvert_exporter": "python",
   "pygments_lexer": "ipython3",
   "version": "3.9.7"
  }
 },
 "nbformat": 4,
 "nbformat_minor": 5
}
